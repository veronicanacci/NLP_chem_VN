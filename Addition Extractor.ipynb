{
 "cells": [
  {
   "cell_type": "code",
   "execution_count": 1,
   "id": "eaa39368",
   "metadata": {},
   "outputs": [],
   "source": [
    "from chemdataextractor import Document"
   ]
  },
  {
   "cell_type": "code",
   "execution_count": 2,
   "id": "7281f933",
   "metadata": {},
   "outputs": [],
   "source": [
    "doc = Document('UV-vis spectrum of 5,10,15,20-Tetra(4-carboxyphenyl)porphyrin in Tetrahydrofuran (THF).')"
   ]
  },
  {
   "cell_type": "code",
   "execution_count": 3,
   "id": "b95a7186",
   "metadata": {},
   "outputs": [
    {
     "data": {
      "text/plain": [
       "[Span('THF', 82, 85),\n",
       " Span('5,10,15,20-Tetra(4-carboxyphenyl)porphyrin', 19, 61),\n",
       " Span('Tetrahydrofuran', 65, 80)]"
      ]
     },
     "execution_count": 3,
     "metadata": {},
     "output_type": "execute_result"
    }
   ],
   "source": [
    "doc.cems"
   ]
  },
  {
   "cell_type": "code",
   "execution_count": 4,
   "id": "ebf54305",
   "metadata": {},
   "outputs": [],
   "source": [
    "with open('exercise_experimentals.txt', 'r', encoding = 'utf8') as file:\n",
    "    data = file.read()"
   ]
  },
  {
   "cell_type": "code",
   "execution_count": 5,
   "id": "78e68782",
   "metadata": {},
   "outputs": [],
   "source": [
    "doc2 = Document(data)"
   ]
  },
  {
   "cell_type": "code",
   "execution_count": 6,
   "id": "24db7b1c",
   "metadata": {},
   "outputs": [
    {
     "data": {
      "text/plain": [
       "[Span('Dichloromethane', 2459, 2474),\n",
       " Span('THF', 3435, 3438),\n",
       " Span('2-methylbenzaldehyde', 1740, 1760),\n",
       " Span('NaCl', 2130, 2134),\n",
       " Span('Na2SO4', 8259, 8265),\n",
       " Span('Et2O', 6981, 6985),\n",
       " Span('THF', 4477, 4480),\n",
       " Span('NaH', 7547, 7550),\n",
       " Span('Et2O', 2020, 2024),\n",
       " Span('YbL·4H2O', 2876, 2884),\n",
       " Span('THF', 3652, 3655),\n",
       " Span('methyl 3,3-dimethylpent-4-enoate', 3750, 3782),\n",
       " Span('ethyl acetate', 4880, 4893),\n",
       " Span('TBAF', 4499, 4503),\n",
       " Span('DMSO', 1715, 1719),\n",
       " Span('hexanes', 8352, 8359),\n",
       " Span('triphenylphosphine', 5535, 5553),\n",
       " Span('Gd(OTf)3·9H2O', 2842, 2855),\n",
       " Span('DMSO', 7610, 7614),\n",
       " Span('ethyl acetate', 6139, 6152),\n",
       " Span('dichloromethane', 3308, 3323),\n",
       " Span('ammonia', 1082, 1089),\n",
       " Span('silver chloride precipitate', 5354, 5381),\n",
       " Span('chloro(ƞ4–cycloocta–1,5–diene)(1,3-dimesitylimidazol-2-ylidene) iridium(I)', 4977, 5051),\n",
       " Span('diethyl ether', 3670, 3683),\n",
       " Span('ammonia', 982, 989),\n",
       " Span('THF', 7606, 7609),\n",
       " Span('nitrogen', 1470, 1478),\n",
       " Span('1,3-bis(2,6-di-iso-propylphenyl)-4,5-dimethylimidazolium chloride', 6277, 6342),\n",
       " Span('yellow precipitate', 3569, 3587),\n",
       " Span('H2O', 221, 224),\n",
       " Span('pyridine', 2813, 2821),\n",
       " Span('H2O', 8216, 8219),\n",
       " Span('hexanes', 6157, 6164),\n",
       " Span('CaCl2', 2637, 2642),\n",
       " Span('THF', 4514, 4517),\n",
       " Span('tributyl(iodomethyl)stannane', 7870, 7898),\n",
       " Span('NH4Cl', 4647, 4652),\n",
       " Span('ethyl acetate', 4673, 4686),\n",
       " Span('ethylene glycol', 7686, 7701),\n",
       " Span('ammonia', 924, 931),\n",
       " Span('THF', 5098, 5101),\n",
       " Span('silica gel', 501, 511),\n",
       " Span('N2', 828, 830),\n",
       " Span('Na2SO4', 4272, 4278),\n",
       " Span('H2PtCl6', 686, 693),\n",
       " Span('mesitylene', 1221, 1231),\n",
       " Span('ethylacetate', 4165, 4177),\n",
       " Span('(1S,2S)-1,2-Bis(2-hydroxyphenyl)-1,2-diaminoethane', 1495, 1545),\n",
       " Span('imidazolium', 6624, 6635),\n",
       " Span('benzophenone imine', 2549, 2567),\n",
       " Span('yellow precipitate', 3605, 3623),\n",
       " Span('benzylamine', 2523, 2534),\n",
       " Span('THF', 3810, 3813),\n",
       " Span('MTBE', 8144, 8148),\n",
       " Span('diethyl ether', 3101, 3114),\n",
       " Span('dichloromethane', 3345, 3360),\n",
       " Span('ethyl acetate', 5999, 6012),\n",
       " Span('potassium osmate dihydrate', 52, 78),\n",
       " Span('diethyl ether', 3230, 3243),\n",
       " Span('H2O', 8074, 8077),\n",
       " Span('hexane', 535, 541),\n",
       " Span('(5S,6S,7R,7aS)-5-Butyl-6,7-dihydroxytetrahydropyrrolo[1,2-c]oxazol-3(1H)-one', 563, 639),\n",
       " Span('toluene', 727, 734),\n",
       " Span('benzyl alcohol', 788, 802),\n",
       " Span('ketimine', 2760, 2768),\n",
       " Span('iridium(I)', 7169, 7179),\n",
       " Span('bright red', 6069, 6079),\n",
       " Span('EtOAc', 8360, 8365),\n",
       " Span('argon', 5487, 5492),\n",
       " Span('methanol', 1134, 1142),\n",
       " Span('silica', 6940, 6946),\n",
       " Span('hydrochloric acid', 4039, 4056),\n",
       " Span('Na2SO4', 2165, 2171),\n",
       " Span('Na2SO4', 4777, 4783),\n",
       " Span('deuterium', 7334, 7343),\n",
       " Span('toluene', 427, 434),\n",
       " Span('potassium tert-butoxide', 6499, 6522),\n",
       " Span('(5R,7aS)‐5‐butyl‐1H,3H,5H,7aH‐pyrrolo[1,2‐c][1,3]oxazol‐3‐one', 128, 189),\n",
       " Span('nitrogen', 1640, 1648),\n",
       " Span('THF', 6437, 6440),\n",
       " Span('4-Methylmorpholine N-oxide', 0, 26),\n",
       " Span('carbene', 6645, 6652),\n",
       " Span('2- ((tributylstannyl)methoxy)ethan-1-ol', 8389, 8428),\n",
       " Span('bright red', 5652, 5662),\n",
       " Span('nitrogen', 1398, 1406),\n",
       " Span('silver hexafluorophosphate', 5225, 5251),\n",
       " Span('acetone', 213, 220),\n",
       " Span('2-methylbenzaldehyde', 2361, 2381),\n",
       " Span('argon', 6415, 6420),\n",
       " Span('lithium aluminum hydride', 3840, 3864)]"
      ]
     },
     "execution_count": 6,
     "metadata": {},
     "output_type": "execute_result"
    }
   ],
   "source": [
    "doc2.cems"
   ]
  },
  {
   "cell_type": "code",
   "execution_count": null,
   "id": "d7e26982",
   "metadata": {},
   "outputs": [],
   "source": []
  }
 ],
 "metadata": {
  "kernelspec": {
   "display_name": "Python 3",
   "language": "python",
   "name": "python3"
  },
  "language_info": {
   "codemirror_mode": {
    "name": "ipython",
    "version": 3
   },
   "file_extension": ".py",
   "mimetype": "text/x-python",
   "name": "python",
   "nbconvert_exporter": "python",
   "pygments_lexer": "ipython3",
   "version": "3.9.5"
  }
 },
 "nbformat": 4,
 "nbformat_minor": 5
}
