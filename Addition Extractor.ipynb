{
 "cells": [
  {
   "cell_type": "code",
   "execution_count": 47,
   "id": "eaa39368",
   "metadata": {},
   "outputs": [],
   "source": [
    "from chemdataextractor import Document\n",
    "import re"
   ]
  },
  {
   "cell_type": "code",
   "execution_count": 48,
   "id": "fc1ad611",
   "metadata": {},
   "outputs": [],
   "source": [
    "doc2 = Document.from_file(open('exercise_experimentals.txt', 'rb'))"
   ]
  },
  {
   "cell_type": "code",
   "execution_count": 165,
   "id": "7713785e",
   "metadata": {},
   "outputs": [
    {
     "name": "stdout",
     "output_type": "stream",
     "text": [
      "XXXXXXXXXXXXXXXXXXXXXXX\n",
      "#################\n",
      "The sentence: 4-Methylmorpholine N-oxide (1.76 mL, 8.42 mmol) and potassium osmate dihydrate (97.3 mg, 0.38 mmol) were added to a solution of (5R,7aS)‐5‐butyl‐1H,3H,5H,7aH‐pyrrolo[1,2‐c][1,3]oxazol‐3‐one (347 mg, 1.91 mmol) in acetone/H2O (2:1, 54 mL).\n",
      "4-Methylmorpholine N-oxide ['1.76 mL, 8.42 mmol']\n",
      "potassium osmate dihydrate ['97.3 mg, 0.38 mmol']\n",
      "(5R,7aS)‐5‐butyl‐1H,3H,5H,7aH‐pyrrolo[1,2‐c][1,3]oxazol‐3‐one ['347 mg, 1.91 mmol']\n",
      "acetone []\n",
      "H2O ['2:1, 54 mL']\n",
      "XXXXXXXXXXXXXXXXXXXXXXX\n",
      "#################\n",
      "The sentence: To a solution of H2PtCl6 (0.01 mmol, 4.28 mg) in 2 mL dry toluene in a 100 mL Fisher Porter tube was added 0.5 mmol of benzyl alcohol and 0.5 mmol of KH under N2 atmosphere.\n",
      "H2PtCl6 ['0.01 mmol, 4.28 mg']\n",
      "toluene ['2 mL']\n",
      "benzyl alcohol ['5 mmol']\n",
      "N2 []\n",
      "#################\n",
      "The sentence: 1 mL dry methanol was added to dissolve the precipitate and monitor the conversion in GCMS with mesitylene as an internal standard.\n",
      "methanol ['1 mL']\n",
      "mesitylene []\n",
      "XXXXXXXXXXXXXXXXXXXXXXX\n",
      "#################\n",
      "The sentence: (1S,2S)-1,2-Bis(2-hydroxyphenyl)-1,2-diaminoethane (1.0 g, 4.1 mmol, 1.0 equiv, 97%) is added through the open neck under a positive pressure of nitrogen.\n",
      "(1S,2S)-1,2-Bis(2-hydroxyphenyl)-1,2-diaminoethane ['1.0 g, 4.1 mmol, 1.0 equiv, 97%']\n",
      "nitrogen []\n",
      "#################\n",
      "The sentence: The open neck is capped with a rubber septum, and then anhydrous DMSO (20 mL, 99.8+%) and 2-methylbenzaldehyde (1.23 g, 10.2 mmol, 2.5 equiv, 97%) are added into the flask by syringe through the rubber septum.\n",
      "DMSO ['20 mL, 99.8+%']\n",
      "2-methylbenzaldehyde ['1.23 g, 10.2 mmol, 2.5 equiv, 97%']\n",
      "#################\n",
      "The sentence: After the yellow solution is stirred for 14 h at 20 °C, the reaction is quenched by the addition of distilled water (100 mL), and the mixture is extracted with Et2O (20 mL × 3).\n",
      "Et2O ['20 mL × 3']\n",
      "XXXXXXXXXXXXXXXXXXXXXXX\n",
      "#################\n",
      "The sentence: Dichloromethane (0.4 M) is added to a round-bottomed flask.\n",
      "Dichloromethane ['0.4 M']\n",
      "#################\n",
      "The sentence: The benzylamine (1 equiv) and benzophenone imine (1 equiv) are then added and the flask is fitted with a drying tube (CaCl2).\n",
      "benzylamine ['1 equiv']\n",
      "benzophenone imine ['1 equiv']\n",
      "CaCl2 []\n",
      "XXXXXXXXXXXXXXXXXXXXXXX\n",
      "#################\n",
      "The sentence: To a pyridine (60 ml) solution of Gd(OTf)3·9H2O (500 mg; 0.65 mmol) YbL·4H2O (200 mg; 0.22 mmol) is added.\n",
      "pyridine ['60 ml']\n",
      "Gd(OTf)3·9H2O ['500 mg; 0.65 mmol']\n",
      "YbL·4H2O ['200 mg; 0.22 mmol']\n",
      "#################\n",
      "The sentence: To the orange precipitate THF (25 ml) is added and the mixture is stirred overnight (in some cases all the precipitate dissolves at first, but overnight a pale yellow precipitate forms).\n",
      "THF ['25 ml']\n",
      "yellow precipitate []\n",
      "XXXXXXXXXXXXXXXXXXXXXXX\n",
      "#################\n",
      "The sentence: To the cooled (0 ℃) solution of methyl 3,3-dimethylpent-4-enoate (2, 142 g, 1.0 mol) in dry THF (500 ml) was slowly added lithium aluminum hydride (38 g, 1 mol).\n",
      "methyl 3,3-dimethylpent-4-enoate ['2, 142 g, 1.0 mol']\n",
      "THF ['500 ml']\n",
      "lithium aluminum hydride ['38 g, 1 mol']\n",
      "#################\n",
      "The sentence: After completion of the reaction, the reaction was cooled and then 4 M hydrochloric acid (1000 ml) was added dropwise until the reaction was clear solution.\n",
      "hydrochloric acid ['1000 ml']\n",
      "continuous\n",
      "XXXXXXXXXXXXXXXXXXXXXXX\n",
      "#################\n",
      "The sentence: A stirred solution of rac-17a1 (330 mg, 0.64 mmol) in THF (12 mL) was added TBAF (1.0 M in THF, 0.7 mL, 0.70 mmol) at 0 oC.\n",
      "THF ['12 mL']\n",
      "TBAF ['1.0 M in THF, 0.7 mL, 0.70 mmol']\n",
      "THF ['12 mL']\n",
      "XXXXXXXXXXXXXXXXXXXXXXX\n",
      "#################\n",
      "The sentence: After all the solids had dissolved, silver hexafluorophosphate (0.276 g, 1.093 mmol) was added, affording a yellow to opaque orange color S23 change on formation of silver chloride precipitate.\n",
      "silver hexafluorophosphate ['0.276 g, 1.093 mmol']\n",
      "silver chloride precipitate []\n",
      "XXXXXXXXXXXXXXXXXXXXXXX\n",
      "#################\n",
      "The sentence: 1,3-bis(2,6-di-iso-propylphenyl)-4,5-dimethylimidazolium chloride (0.340 g, 0.750 mmol) was added to a flame-dried Schlenk flask under an argon atmosphere.\n",
      "1,3-bis(2,6-di-iso-propylphenyl)-4,5-dimethylimidazolium chloride ['0.340 g, 0.750 mmol']\n",
      "argon []\n",
      "#################\n",
      "The sentence: Dry THF (7.5 mL) was added with stirring, forming a slurry.\n",
      "THF ['7.5 mL']\n",
      "#################\n",
      "The sentence: Fresh potassium tert-butoxide (0.101 g, 0.900 mmol) was added to the flask in a single portion, causing gradual dissolution of the imidazolium salt and carbene formation.\n",
      "potassium tert-butoxide ['0.101 g, 0.900 mmol']\n",
      "imidazolium []\n",
      "carbene []\n",
      "#################\n",
      "The sentence: Stirring was continued at r.t. for 30 min before the addition of [Ir(COD)Cl]2.\n",
      "NO CHEMICALS FOUND IN: Stirring was continued at r.t. for 30 min before the addition of [Ir(COD)Cl]2.\n",
      "XXXXXXXXXXXXXXXXXXXXXXX\n",
      "#################\n",
      "The sentence: To a flame dried two necked round bottom flask, equipped with a stopcock, was added 4b (189 mg, 0.500 mmol, 1 eq.) and the iridium(I) catalyst (0.00325 mmol, 6.5 mol%).\n",
      "iridium(I) ['0.00325 mmol, 6.5 mol%']\n",
      "#################\n",
      "The sentence: To this was added DCM (14.0 mL) and the solution cooled to 0 °C.\n",
      "NO CHEMICALS FOUND IN: To this was added DCM (14.0 mL) and the solution cooled to 0 °C.\n",
      "XXXXXXXXXXXXXXXXXXXXXXX\n",
      "#################\n",
      "The sentence: A suspension of NaH (2.12 g, 52.9 mmol, 1.20 equiv, 60% in mineral oil) in THF/DMSO (10:1, 150 mL) was cooled to 0 °C followed by the dropwise addition of ethylene glycol (7.40 mL, 132 mmol, 3.00 equiv).\n",
      "NaH ['2.12 g, 52.9 mmol, 1.20 equiv, 60% in mineral oil']\n",
      "THF []\n",
      "DMSO ['10:1, 150 mL']\n",
      "ethylene glycol ['7.40 mL, 132 mmol, 3.00 equiv']\n",
      "continuous\n",
      "#################\n",
      "The sentence: After 1 h, the mixture was cooled to 0 °C followed by the dropwise addition of tributyl(iodomethyl)stannane (19.0 g, 44.1 mmol, 1.00 equiv).\n",
      "tributyl(iodomethyl)stannane ['19.0 g, 44.1 mmol, 1.00 equiv']\n",
      "continuous\n",
      "22\n"
     ]
    }
   ],
   "source": [
    "add_count = 0\n",
    "chemicals = []\n",
    "for para in doc2.paragraphs:\n",
    "    print('XXXXXXXXXXXXXXXXXXXXXXX')\n",
    "    for sent in para.sentences:\n",
    "        \n",
    "        if re.search('\\\\baddition\\\\b', sent.text) or re.search('\\\\badded\\\\b', sent.text):\n",
    "            print('#################')\n",
    "            print('The sentence:', sent.text)\n",
    "            \n",
    "            for span in sent.cems:\n",
    "                #print(str(span))\n",
    "                what2find = str(span)\n",
    "                #print(what2find)\n",
    "                quantity = re.compile(re.escape(what2find) + ' (?:\\w+\\s+)?\\((.*?)\\)')\n",
    "                res = quantity.findall(sent.text)\n",
    "                \n",
    "                if len(res) < 1:\n",
    "                    quantity2 = re.compile('(\\d+ (?:mmol|mL)) (?:\\w+\\s+){0,2}?' + re.escape(what2find))\n",
    "                    res = quantity2.findall(sent.text)\n",
    "                \n",
    "                print(str(what2find), res)\n",
    "            if len(sent.cems) < 1:\n",
    "                print('NO CHEMICALS FOUND IN:', sent)\n",
    "            #print(sent.text)\n",
    "            add_count += 1\n",
    "            \n",
    "        if re.search('\\\\bdropwise\\\\b', sent.text) or re.search('\\\\bneedle\\\\b', sent.text):\n",
    "            print('continuous') \n",
    "      \n",
    "        \n",
    "        \n",
    "print(add_count)"
   ]
  },
  {
   "cell_type": "code",
   "execution_count": 50,
   "id": "9ff7af79",
   "metadata": {},
   "outputs": [],
   "source": [
    "string1 = 'additional addition added 1224234 hi potato'"
   ]
  },
  {
   "cell_type": "code",
   "execution_count": 61,
   "id": "56be64b1",
   "metadata": {},
   "outputs": [
    {
     "data": {
      "text/plain": [
       "True"
      ]
     },
     "execution_count": 61,
     "metadata": {},
     "output_type": "execute_result"
    }
   ],
   "source": [
    "bool(re.search('\\\\baddition\\\\b', string1))"
   ]
  },
  {
   "cell_type": "code",
   "execution_count": 66,
   "id": "55b1721a",
   "metadata": {},
   "outputs": [
    {
     "data": {
      "text/plain": [
       "['1.76 mL, 8.42 mmol']"
      ]
     },
     "execution_count": 66,
     "metadata": {},
     "output_type": "execute_result"
    }
   ],
   "source": [
    "testline = '4-Methylmorpholine N-oxide (1.76 mL, 8.42 mmol) and potassium osmate dihydrate (97.3 mg, 0.38 mmol) were added to a solution of (5R,7aS)‐5‐butyl‐1H,3H,5H,7aH‐pyrrolo[1,2‐c][1,3]oxazol‐3‐one (347 mg, 1.91 mmol) in acetone/H2O (2:1, 54 mL).'\n",
    "quant = re.compile('4-Methylmorpholine N-oxide \\((.*?)\\)')\n",
    "quant.findall(testline)"
   ]
  },
  {
   "cell_type": "code",
   "execution_count": 124,
   "id": "b39c9fbd",
   "metadata": {},
   "outputs": [
    {
     "name": "stdout",
     "output_type": "stream",
     "text": [
      "re.compile('4-Methylmorpholine N-oxide \\\\((.*?)\\\\)') ['1.76 mL, 8.42 mmol']\n"
     ]
    }
   ],
   "source": [
    "testline2 = '4-Methylmorpholine N-oxide (1.76 mL, 8.42 mmol) and potassium osmate dihydrate (97.3 mg, 0.38 mmol) were added to a solution of (5R,7aS)‐5‐butyl‐1H,3H,5H,7aH‐pyrrolo[1,2‐c][1,3]oxazol‐3‐one (347 mg, 1.91 mmol) in acetone/H2O (2:1, 54 mL).'\n",
    "text = '4-Methylmorpholine N-oxide'\n",
    "quant2 = re.compile(text + ' \\((.*?)\\)')\n",
    "result = quant2.findall(testline)\n",
    "print(quant2, result)"
   ]
  },
  {
   "cell_type": "code",
   "execution_count": 114,
   "id": "c59e0a20",
   "metadata": {},
   "outputs": [
    {
     "data": {
      "text/plain": [
       "'my pet is a cat, ok? \\\\(.*?\\\\)'"
      ]
     },
     "execution_count": 114,
     "metadata": {},
     "output_type": "execute_result"
    }
   ],
   "source": [
    "'my pet is a dog, ok?'\n",
    "\n",
    "pet = 'cat'\n",
    "\n",
    "'my pet is a %s, ok?'%pet\n",
    "\n",
    "\n",
    "'my pet is a %s, ok?'%pet + ' \\(.*?\\)'"
   ]
  }
 ],
 "metadata": {
  "kernelspec": {
   "display_name": "Python 3",
   "language": "python",
   "name": "python3"
  },
  "language_info": {
   "codemirror_mode": {
    "name": "ipython",
    "version": 3
   },
   "file_extension": ".py",
   "mimetype": "text/x-python",
   "name": "python",
   "nbconvert_exporter": "python",
   "pygments_lexer": "ipython3",
   "version": "3.9.5"
  }
 },
 "nbformat": 4,
 "nbformat_minor": 5
}
