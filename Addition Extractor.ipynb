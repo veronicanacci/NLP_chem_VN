{
 "cells": [
  {
   "cell_type": "code",
   "execution_count": 47,
   "id": "eaa39368",
   "metadata": {},
   "outputs": [],
   "source": [
    "from chemdataextractor import Document\n",
    "import re"
   ]
  },
  {
   "cell_type": "code",
   "execution_count": 48,
   "id": "e269fe5f",
   "metadata": {},
   "outputs": [],
   "source": [
    "doc2 = Document.from_file(open('exercise_experimentals.txt', 'rb'))"
   ]
  },
  {
   "cell_type": "code",
   "execution_count": 64,
   "id": "3aad2d10",
   "metadata": {},
   "outputs": [
    {
     "name": "stdout",
     "output_type": "stream",
     "text": [
      "#################\n",
      "4-Methylmorpholine N-oxide\n",
      "potassium osmate dihydrate\n",
      "(5R,7aS)‐5‐butyl‐1H,3H,5H,7aH‐pyrrolo[1,2‐c][1,3]oxazol‐3‐one\n",
      "acetone\n",
      "H2O\n",
      "#################\n",
      "H2PtCl6\n",
      "toluene\n",
      "benzyl alcohol\n",
      "N2\n",
      "#################\n",
      "methanol\n",
      "mesitylene\n",
      "#################\n",
      "(1S,2S)-1,2-Bis(2-hydroxyphenyl)-1,2-diaminoethane\n",
      "nitrogen\n",
      "#################\n",
      "DMSO\n",
      "2-methylbenzaldehyde\n",
      "#################\n",
      "Et2O\n",
      "#################\n",
      "Dichloromethane\n",
      "#################\n",
      "benzylamine\n",
      "benzophenone imine\n",
      "CaCl2\n",
      "#################\n",
      "pyridine\n",
      "Gd(OTf)3·9H2O\n",
      "YbL·4H2O\n",
      "#################\n",
      "THF\n",
      "yellow precipitate\n",
      "#################\n",
      "methyl 3,3-dimethylpent-4-enoate\n",
      "THF\n",
      "lithium aluminum hydride\n",
      "#################\n",
      "hydrochloric acid\n",
      "#################\n",
      "THF\n",
      "TBAF\n",
      "THF\n",
      "#################\n",
      "silver hexafluorophosphate\n",
      "silver chloride precipitate\n",
      "#################\n",
      "1,3-bis(2,6-di-iso-propylphenyl)-4,5-dimethylimidazolium chloride\n",
      "argon\n",
      "#################\n",
      "THF\n",
      "#################\n",
      "potassium tert-butoxide\n",
      "imidazolium\n",
      "carbene\n",
      "#################\n",
      "NO CHEMICALS FOUND IN: Stirring was continued at r.t. for 30 min before the addition of [Ir(COD)Cl]2.\n",
      "#################\n",
      "iridium(I)\n",
      "#################\n",
      "NO CHEMICALS FOUND IN: To this was added DCM (14.0 mL) and the solution cooled to 0 °C.\n",
      "#################\n",
      "NaH\n",
      "THF\n",
      "DMSO\n",
      "ethylene glycol\n",
      "#################\n",
      "tributyl(iodomethyl)stannane\n",
      "22\n"
     ]
    }
   ],
   "source": [
    "add_count = 0\n",
    "chemicals = []\n",
    "for para in doc2.paragraphs:\n",
    "    for sent in para.sentences:\n",
    "        if re.search('\\\\baddition\\\\b', sent.text) or re.search('\\\\badded\\\\b', sent.text):\n",
    "            print('#################')\n",
    "            for span in sent.cems:\n",
    "                print(span)\n",
    "            if len(sent.cems) < 1:\n",
    "                print('NO CHEMICALS FOUND IN:', sent)\n",
    "            #print(sent.text)\n",
    "            add_count += 1\n",
    "print(add_count)"
   ]
  },
  {
   "cell_type": "code",
   "execution_count": 50,
   "id": "540fb116",
   "metadata": {},
   "outputs": [],
   "source": [
    "string1 = 'additional addition added 1224234 hi potato'"
   ]
  },
  {
   "cell_type": "code",
   "execution_count": 61,
   "id": "2c6ec41e",
   "metadata": {},
   "outputs": [
    {
     "data": {
      "text/plain": [
       "True"
      ]
     },
     "execution_count": 61,
     "metadata": {},
     "output_type": "execute_result"
    }
   ],
   "source": [
    "bool(re.search('\\\\baddition\\\\b', string1))"
   ]
  },
  {
   "cell_type": "code",
   "execution_count": null,
   "id": "edd649bb",
   "metadata": {},
   "outputs": [],
   "source": []
  }
 ],
 "metadata": {
  "kernelspec": {
   "display_name": "Python 3",
   "language": "python",
   "name": "python3"
  },
  "language_info": {
   "codemirror_mode": {
    "name": "ipython",
    "version": 3
   },
   "file_extension": ".py",
   "mimetype": "text/x-python",
   "name": "python",
   "nbconvert_exporter": "python",
   "pygments_lexer": "ipython3",
   "version": "3.9.5"
  }
 },
 "nbformat": 4,
 "nbformat_minor": 5
}
