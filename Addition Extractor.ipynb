{
 "cells": [
  {
   "cell_type": "code",
   "execution_count": 3,
   "id": "eaa39368",
   "metadata": {},
   "outputs": [],
   "source": [
    "from chemdataextractor import Document"
   ]
  },
  {
   "cell_type": "code",
   "execution_count": 4,
   "id": "7281f933",
   "metadata": {},
   "outputs": [],
   "source": [
    "doc = Document('UV-vis spectrum of 5,10,15,20-Tetra(4-carboxyphenyl)porphyrin in Tetrahydrofuran (THF).')"
   ]
  },
  {
   "cell_type": "code",
   "execution_count": 6,
   "id": "b95a7186",
   "metadata": {},
   "outputs": [
    {
     "data": {
      "text/plain": [
       "[Span('THF', 82, 85),\n",
       " Span('5,10,15,20-Tetra(4-carboxyphenyl)porphyrin', 19, 61),\n",
       " Span('Tetrahydrofuran', 65, 80)]"
      ]
     },
     "execution_count": 6,
     "metadata": {},
     "output_type": "execute_result"
    }
   ],
   "source": [
    "doc.cems"
   ]
  },
  {
   "cell_type": "code",
   "execution_count": null,
   "id": "ebf54305",
   "metadata": {},
   "outputs": [],
   "source": []
  }
 ],
 "metadata": {
  "kernelspec": {
   "display_name": "Python 3",
   "language": "python",
   "name": "python3"
  },
  "language_info": {
   "codemirror_mode": {
    "name": "ipython",
    "version": 3
   },
   "file_extension": ".py",
   "mimetype": "text/x-python",
   "name": "python",
   "nbconvert_exporter": "python",
   "pygments_lexer": "ipython3",
   "version": "3.9.5"
  }
 },
 "nbformat": 4,
 "nbformat_minor": 5
}
